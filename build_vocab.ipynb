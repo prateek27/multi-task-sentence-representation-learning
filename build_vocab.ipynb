{
 "cells": [
  {
   "cell_type": "code",
   "execution_count": 1,
   "metadata": {},
   "outputs": [],
   "source": [
    "FILE_NLI = \"./gensen/data/corpora/allnli.train.txt.clean.noblank\"\n",
    "FILE_NMT =  \"./english.tok\"#\"./gensen/data/corpora/nmt/training/nmt.de-en.en.tok\"\n",
    "FILE_NMT_2 = \"./german.tok\"\n",
    "\n",
    "FILE_TREE_VOCAB = './tree_data/pt.out'"
   ]
  },
  {
   "cell_type": "code",
   "execution_count": 2,
   "metadata": {},
   "outputs": [],
   "source": [
    "\n",
    "from collections import OrderedDict"
   ]
  },
  {
   "cell_type": "code",
   "execution_count": 3,
   "metadata": {},
   "outputs": [],
   "source": [
    "def write_vocab_file(vocab_file, vocab):\n",
    "    PAD = \"<pad>\"\n",
    "    #START = \"<s>\"\n",
    "    #EOS = \"</s>\"\n",
    "    \n",
    "    \n",
    "    \n",
    "    with open(vocab_file, 'w') as fw:\n",
    "        fw.write(f'{PAD}\\n')\n",
    "        \n",
    "        #write \n",
    "        for word in vocab:\n",
    "            fw.write(f'{word[0]}\\n')"
   ]
  },
  {
   "cell_type": "code",
   "execution_count": 4,
   "metadata": {},
   "outputs": [],
   "source": [
    "def buildCommonVocab(fileNLI,fileNMT,outfile=\"words.txt\"):\n",
    "    \n",
    "    counter = dict()\n",
    "    \n",
    "    #Read and Process the NLI Dataset\n",
    "    with open(fileNLI) as f:\n",
    "        for line in f:\n",
    "            token_list = line.split('\\t')\n",
    "            premise = token_list[0]\n",
    "            hypothesis = token_list[1]\n",
    "            label = token_list[2]\n",
    "            \n",
    "            for w in premise.strip().split():\n",
    "                counter[w] = counter.get(w, 0) + 1\n",
    "            for w in hypothesis.strip().split():\n",
    "                counter[w] = counter.get(w,0) + 1\n",
    "                \n",
    "    #Read and Process the NMT Dataset\n",
    "    with open(fileNMT) as f:\n",
    "        for line in f:\n",
    "            tokens = line.strip().split()\n",
    "            \n",
    "            for w in tokens:\n",
    "                counter[w] = counter.get(w,0) + 1\n",
    "\n",
    "    \n",
    "    ## Build Common Vocab and Return\n",
    "    word_counts = sorted(counter.items(), key=lambda x:x[1], reverse=True)\n",
    "    vocab = word_counts[:30000]\n",
    " \n",
    "    write_vocab_file(outfile,vocab)\n",
    "            \n",
    "    \n",
    "    return \n",
    "\n",
    "\n",
    "            "
   ]
  },
  {
   "cell_type": "code",
   "execution_count": 14,
   "metadata": {},
   "outputs": [],
   "source": [
    "#buildCommonVocab(FILE_NLI,FILE_NMT)"
   ]
  },
  {
   "cell_type": "code",
   "execution_count": 7,
   "metadata": {},
   "outputs": [],
   "source": [
    "def buildVocab(file,outfile=\"german_words.txt\"):\n",
    "    counter2 = dict()\n",
    "    \n",
    "    with open(file) as f:\n",
    "        for line in f:\n",
    "            tokens = line.strip().split()\n",
    "            \n",
    "            for w in tokens:\n",
    "                counter2[w] = counter2.get(w,0) + 1\n",
    "                \n",
    "        word_counts = sorted(counter2.items(), key=lambda x:x[1], reverse=True)\n",
    "        vocab = word_counts[:30000]\n",
    " \n",
    "    write_vocab_file(outfile,vocab)\n",
    "\n",
    "                \n",
    "            "
   ]
  },
  {
   "cell_type": "code",
   "execution_count": 8,
   "metadata": {},
   "outputs": [],
   "source": [
    "#buildVocab(FILE_NMT_2)"
   ]
  },
  {
   "cell_type": "code",
   "execution_count": 9,
   "metadata": {},
   "outputs": [],
   "source": [
    "buildVocab(FILE_TREE_VOCAB,\"tree_words.txt\")"
   ]
  },
  {
   "cell_type": "code",
   "execution_count": null,
   "metadata": {},
   "outputs": [],
   "source": []
  }
 ],
 "metadata": {
  "kernelspec": {
   "display_name": "Python 3.6 - AzureML",
   "language": "python",
   "name": "python3-azureml"
  },
  "language_info": {
   "codemirror_mode": {
    "name": "ipython",
    "version": 3
   },
   "file_extension": ".py",
   "mimetype": "text/x-python",
   "name": "python",
   "nbconvert_exporter": "python",
   "pygments_lexer": "ipython3",
   "version": "3.6.6"
  }
 },
 "nbformat": 4,
 "nbformat_minor": 2
}
