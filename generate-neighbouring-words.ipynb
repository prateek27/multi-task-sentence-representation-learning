{
 "cells": [
  {
   "cell_type": "code",
   "execution_count": 1,
   "metadata": {},
   "outputs": [],
   "source": [
    "from sklearn.metrics.pairwise import cosine_similarity\n",
    "import numpy as np\n",
    "import sys\n",
    "\n",
    "EMBED_FILE = \"./encoder_gen/data/Embeddings.npy\"\n"
   ]
  },
  {
   "cell_type": "code",
   "execution_count": 2,
   "metadata": {},
   "outputs": [
    {
     "name": "stdout",
     "output_type": "stream",
     "text": [
      "(29998, 256)\n"
     ]
    }
   ],
   "source": [
    "def load_embeddings(file):\n",
    "    #Slicing the embeddings from 1 to n\n",
    "    emb = np.load(file)[1:-1]\n",
    "    return emb\n",
    "\n",
    "embeddings = load_embeddings(EMBED_FILE)\n",
    "print(embeddings.shape)\n"
   ]
  },
  {
   "cell_type": "code",
   "execution_count": 3,
   "metadata": {},
   "outputs": [],
   "source": [
    "vocab = open('words.txt',encoding='utf-8')\n",
    "#print(vocab.read())"
   ]
  },
  {
   "cell_type": "code",
   "execution_count": 4,
   "metadata": {},
   "outputs": [],
   "source": [
    "def createIndexToWordMapping(vocab):\n",
    "    vdict ={}\n",
    "    for v in vocab:\n",
    "        vdict[len(vdict.keys())] = v.strip()\n",
    "    return vdict"
   ]
  },
  {
   "cell_type": "code",
   "execution_count": 5,
   "metadata": {},
   "outputs": [],
   "source": [
    "vocab_dict = createIndexToWordMapping(vocab)\n",
    "#print(vocab_dict)"
   ]
  },
  {
   "cell_type": "code",
   "execution_count": 6,
   "metadata": {},
   "outputs": [],
   "source": [
    "\n",
    "def nearest(embeddings,nearest_k):\n",
    "    similarity_index = np.argsort(-cosine_similarity(embeddings,embeddings),axis=1)\n",
    "\n",
    "    with open(\"word_similar.txt\",'w') as f:\n",
    "        for i,w in enumerate(similarity_index):\n",
    "            temp = []\n",
    "            temp.append(vocab_dict[i])\n",
    "            j = 0\n",
    "            for idx in w:\n",
    "                if idx!=i:\n",
    "                    temp.append(vocab_dict[idx])\n",
    "                    j+=1\n",
    "                if j == nearest_k:\n",
    "                    break\n",
    "            print('%s,%s,%s,%s,%s,%s'%tuple(temp),file=f)\n",
    "    \n",
    "    print('Successfully Created Neighbours')\n"
   ]
  },
  {
   "cell_type": "code",
   "execution_count": 7,
   "metadata": {},
   "outputs": [
    {
     "name": "stdout",
     "output_type": "stream",
     "text": [
      "Successfully Created Neighbours\n"
     ]
    }
   ],
   "source": [
    "nearest(embeddings,5)"
   ]
  },
  {
   "cell_type": "code",
   "execution_count": null,
   "metadata": {},
   "outputs": [],
   "source": []
  }
 ],
 "metadata": {
  "kernelspec": {
   "display_name": "Python 3.6 - AzureML",
   "language": "python",
   "name": "python3-azureml"
  },
  "language_info": {
   "codemirror_mode": {
    "name": "ipython",
    "version": 3
   },
   "file_extension": ".py",
   "mimetype": "text/x-python",
   "name": "python",
   "nbconvert_exporter": "python",
   "pygments_lexer": "ipython3",
   "version": "3.6.6"
  }
 },
 "nbformat": 4,
 "nbformat_minor": 2
}
